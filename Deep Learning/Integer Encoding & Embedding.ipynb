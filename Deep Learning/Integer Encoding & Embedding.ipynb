{
 "cells": [
  {
   "cell_type": "code",
   "execution_count": 10,
   "id": "7477c54c",
   "metadata": {},
   "outputs": [],
   "source": [
    "import numpy as np\n",
    "docs=[\n",
    "    'go pakistan',\n",
    "    'pakistan pakistan',\n",
    "    'jeetega jbhai jeetega bhai jeetega',\n",
    "    'pakistan zindabad ki jai',\n",
    "    'kohli kohli',\n",
    "    'sachin tendulkar',\n",
    "    'dhoni dhoni',\n",
    "    'sohal khan ki jai',\n",
    "    'inquilab zindabad'\n",
    "]"
   ]
  },
  {
   "cell_type": "code",
   "execution_count": 11,
   "id": "77fcace4",
   "metadata": {},
   "outputs": [],
   "source": [
    "from tensorflow.keras.preprocessing.text import Tokenizer\n",
    "tokenizer=Tokenizer(oov_token='<nothing>')\n"
   ]
  },
  {
   "cell_type": "code",
   "execution_count": 12,
   "id": "1c6732d4",
   "metadata": {},
   "outputs": [],
   "source": [
    "tokenizer.fit_on_texts(docs)"
   ]
  },
  {
   "cell_type": "code",
   "execution_count": 13,
   "id": "1e81bfc7",
   "metadata": {},
   "outputs": [
    {
     "data": {
      "text/plain": [
       "{'<nothing>': 1,\n",
       " 'pakistan': 2,\n",
       " 'jeetega': 3,\n",
       " 'zindabad': 4,\n",
       " 'ki': 5,\n",
       " 'jai': 6,\n",
       " 'kohli': 7,\n",
       " 'dhoni': 8,\n",
       " 'go': 9,\n",
       " 'jbhai': 10,\n",
       " 'bhai': 11,\n",
       " 'sachin': 12,\n",
       " 'tendulkar': 13,\n",
       " 'sohal': 14,\n",
       " 'khan': 15,\n",
       " 'inquilab': 16}"
      ]
     },
     "execution_count": 13,
     "metadata": {},
     "output_type": "execute_result"
    }
   ],
   "source": [
    "tokenizer.word_index"
   ]
  },
  {
   "cell_type": "code",
   "execution_count": 14,
   "id": "c68d75f8",
   "metadata": {},
   "outputs": [
    {
     "data": {
      "text/plain": [
       "OrderedDict([('go', 1),\n",
       "             ('pakistan', 4),\n",
       "             ('jeetega', 3),\n",
       "             ('jbhai', 1),\n",
       "             ('bhai', 1),\n",
       "             ('zindabad', 2),\n",
       "             ('ki', 2),\n",
       "             ('jai', 2),\n",
       "             ('kohli', 2),\n",
       "             ('sachin', 1),\n",
       "             ('tendulkar', 1),\n",
       "             ('dhoni', 2),\n",
       "             ('sohal', 1),\n",
       "             ('khan', 1),\n",
       "             ('inquilab', 1)])"
      ]
     },
     "execution_count": 14,
     "metadata": {},
     "output_type": "execute_result"
    }
   ],
   "source": [
    "tokenizer.word_counts"
   ]
  },
  {
   "cell_type": "code",
   "execution_count": 46,
   "id": "d5fd6f7c",
   "metadata": {},
   "outputs": [
    {
     "ename": "AttributeError",
     "evalue": "'Tokenizer' object has no attribute 'document_counts'",
     "output_type": "error",
     "traceback": [
      "\u001b[31m---------------------------------------------------------------------------\u001b[39m",
      "\u001b[31mAttributeError\u001b[39m                            Traceback (most recent call last)",
      "\u001b[36mCell\u001b[39m\u001b[36m \u001b[39m\u001b[32mIn[46]\u001b[39m\u001b[32m, line 1\u001b[39m\n\u001b[32m----> \u001b[39m\u001b[32m1\u001b[39m \u001b[43mtokenizer\u001b[49m\u001b[43m.\u001b[49m\u001b[43mdocument_counts\u001b[49m\n",
      "\u001b[31mAttributeError\u001b[39m: 'Tokenizer' object has no attribute 'document_counts'"
     ]
    }
   ],
   "source": [
    "tokenizer.document_counts"
   ]
  },
  {
   "cell_type": "code",
   "execution_count": 18,
   "id": "72b57707",
   "metadata": {},
   "outputs": [
    {
     "data": {
      "text/plain": [
       "[[9, 2],\n",
       " [2, 2],\n",
       " [3, 10, 3, 11, 3],\n",
       " [2, 4, 5, 6],\n",
       " [7, 7],\n",
       " [12, 13],\n",
       " [8, 8],\n",
       " [14, 15, 5, 6],\n",
       " [16, 4]]"
      ]
     },
     "execution_count": 18,
     "metadata": {},
     "output_type": "execute_result"
    }
   ],
   "source": [
    "sequences=tokenizer.texts_to_sequences(docs)\n",
    "sequences"
   ]
  },
  {
   "cell_type": "code",
   "execution_count": 19,
   "id": "dc9e113e",
   "metadata": {},
   "outputs": [],
   "source": [
    "from keras.utils import pad_sequences"
   ]
  },
  {
   "cell_type": "code",
   "execution_count": 20,
   "id": "de6f14be",
   "metadata": {},
   "outputs": [],
   "source": [
    "sequences=pad_sequences(sequences,padding='post')"
   ]
  },
  {
   "cell_type": "code",
   "execution_count": 21,
   "id": "fdf1a146",
   "metadata": {},
   "outputs": [
    {
     "data": {
      "text/plain": [
       "array([[ 9,  2,  0,  0,  0],\n",
       "       [ 2,  2,  0,  0,  0],\n",
       "       [ 3, 10,  3, 11,  3],\n",
       "       [ 2,  4,  5,  6,  0],\n",
       "       [ 7,  7,  0,  0,  0],\n",
       "       [12, 13,  0,  0,  0],\n",
       "       [ 8,  8,  0,  0,  0],\n",
       "       [14, 15,  5,  6,  0],\n",
       "       [16,  4,  0,  0,  0]], dtype=int32)"
      ]
     },
     "execution_count": 21,
     "metadata": {},
     "output_type": "execute_result"
    }
   ],
   "source": [
    "sequences"
   ]
  },
  {
   "cell_type": "code",
   "execution_count": null,
   "id": "4b3a4d64",
   "metadata": {},
   "outputs": [],
   "source": [
    "\n",
    "# Embedding\n",
    "docs=[\n",
    "    'go pakistan',\n",
    "    'pakistan pakistan',\n",
    "    'jeetega jbhai jeetega bhai jeetega',\n",
    "    'pakistan zindabad ki jai',\n",
    "    'kohli kohli',\n",
    "    'sachin tendulkar',\n",
    "    'dhoni dhoni',\n",
    "    'sohal khan ki jai',\n",
    "    'inquilab zindabad'\n",
    "]"
   ]
  },
  {
   "cell_type": "code",
   "execution_count": 26,
   "id": "c950cd7a",
   "metadata": {},
   "outputs": [],
   "source": [
    "from tensorflow.keras.preprocessing.text import Tokenizer\n",
    "tokenizer=Tokenizer()"
   ]
  },
  {
   "cell_type": "code",
   "execution_count": 27,
   "id": "a791fcc4",
   "metadata": {},
   "outputs": [],
   "source": [
    "tokenizer.fit_on_texts(docs)"
   ]
  },
  {
   "cell_type": "code",
   "execution_count": 28,
   "id": "d21090b8",
   "metadata": {},
   "outputs": [
    {
     "data": {
      "text/plain": [
       "15"
      ]
     },
     "execution_count": 28,
     "metadata": {},
     "output_type": "execute_result"
    }
   ],
   "source": [
    "len(tokenizer.word_index)"
   ]
  },
  {
   "cell_type": "code",
   "execution_count": 29,
   "id": "987f47e9",
   "metadata": {},
   "outputs": [
    {
     "data": {
      "text/plain": [
       "[[8, 1],\n",
       " [1, 1],\n",
       " [2, 9, 2, 10, 2],\n",
       " [1, 3, 4, 5],\n",
       " [6, 6],\n",
       " [11, 12],\n",
       " [7, 7],\n",
       " [13, 14, 4, 5],\n",
       " [15, 3]]"
      ]
     },
     "execution_count": 29,
     "metadata": {},
     "output_type": "execute_result"
    }
   ],
   "source": [
    "sequences=tokenizer.texts_to_sequences(docs)\n",
    "sequences"
   ]
  },
  {
   "cell_type": "code",
   "execution_count": 30,
   "id": "cdf89589",
   "metadata": {},
   "outputs": [
    {
     "data": {
      "text/plain": [
       "array([[ 8,  1,  0,  0,  0],\n",
       "       [ 1,  1,  0,  0,  0],\n",
       "       [ 2,  9,  2, 10,  2],\n",
       "       [ 1,  3,  4,  5,  0],\n",
       "       [ 6,  6,  0,  0,  0],\n",
       "       [11, 12,  0,  0,  0],\n",
       "       [ 7,  7,  0,  0,  0],\n",
       "       [13, 14,  4,  5,  0],\n",
       "       [15,  3,  0,  0,  0]], dtype=int32)"
      ]
     },
     "execution_count": 30,
     "metadata": {},
     "output_type": "execute_result"
    }
   ],
   "source": [
    "from keras.utils import pad_sequences\n",
    "sequences=pad_sequences(sequences,padding='post')\n",
    "sequences"
   ]
  },
  {
   "cell_type": "code",
   "execution_count": 45,
   "id": "d01be690",
   "metadata": {},
   "outputs": [
    {
     "data": {
      "text/html": [
       "<pre style=\"white-space:pre;overflow-x:auto;line-height:normal;font-family:Menlo,'DejaVu Sans Mono',consolas,'Courier New',monospace\"><span style=\"font-weight: bold\">Model: \"sequential_9\"</span>\n",
       "</pre>\n"
      ],
      "text/plain": [
       "\u001b[1mModel: \"sequential_9\"\u001b[0m\n"
      ]
     },
     "metadata": {},
     "output_type": "display_data"
    },
    {
     "data": {
      "text/html": [
       "<pre style=\"white-space:pre;overflow-x:auto;line-height:normal;font-family:Menlo,'DejaVu Sans Mono',consolas,'Courier New',monospace\">┏━━━━━━━━━━━━━━━━━━━━━━━━━━━━━━━━━┳━━━━━━━━━━━━━━━━━━━━━━━━┳━━━━━━━━━━━━━━━┓\n",
       "┃<span style=\"font-weight: bold\"> Layer (type)                    </span>┃<span style=\"font-weight: bold\"> Output Shape           </span>┃<span style=\"font-weight: bold\">       Param # </span>┃\n",
       "┡━━━━━━━━━━━━━━━━━━━━━━━━━━━━━━━━━╇━━━━━━━━━━━━━━━━━━━━━━━━╇━━━━━━━━━━━━━━━┩\n",
       "│ embedding_8 (<span style=\"color: #0087ff; text-decoration-color: #0087ff\">Embedding</span>)         │ ?                      │   <span style=\"color: #00af00; text-decoration-color: #00af00\">0</span> (unbuilt) │\n",
       "└─────────────────────────────────┴────────────────────────┴───────────────┘\n",
       "</pre>\n"
      ],
      "text/plain": [
       "┏━━━━━━━━━━━━━━━━━━━━━━━━━━━━━━━━━┳━━━━━━━━━━━━━━━━━━━━━━━━┳━━━━━━━━━━━━━━━┓\n",
       "┃\u001b[1m \u001b[0m\u001b[1mLayer (type)                   \u001b[0m\u001b[1m \u001b[0m┃\u001b[1m \u001b[0m\u001b[1mOutput Shape          \u001b[0m\u001b[1m \u001b[0m┃\u001b[1m \u001b[0m\u001b[1m      Param #\u001b[0m\u001b[1m \u001b[0m┃\n",
       "┡━━━━━━━━━━━━━━━━━━━━━━━━━━━━━━━━━╇━━━━━━━━━━━━━━━━━━━━━━━━╇━━━━━━━━━━━━━━━┩\n",
       "│ embedding_8 (\u001b[38;5;33mEmbedding\u001b[0m)         │ ?                      │   \u001b[38;5;34m0\u001b[0m (unbuilt) │\n",
       "└─────────────────────────────────┴────────────────────────┴───────────────┘\n"
      ]
     },
     "metadata": {},
     "output_type": "display_data"
    },
    {
     "data": {
      "text/html": [
       "<pre style=\"white-space:pre;overflow-x:auto;line-height:normal;font-family:Menlo,'DejaVu Sans Mono',consolas,'Courier New',monospace\"><span style=\"font-weight: bold\"> Total params: </span><span style=\"color: #00af00; text-decoration-color: #00af00\">0</span> (0.00 B)\n",
       "</pre>\n"
      ],
      "text/plain": [
       "\u001b[1m Total params: \u001b[0m\u001b[38;5;34m0\u001b[0m (0.00 B)\n"
      ]
     },
     "metadata": {},
     "output_type": "display_data"
    },
    {
     "data": {
      "text/html": [
       "<pre style=\"white-space:pre;overflow-x:auto;line-height:normal;font-family:Menlo,'DejaVu Sans Mono',consolas,'Courier New',monospace\"><span style=\"font-weight: bold\"> Trainable params: </span><span style=\"color: #00af00; text-decoration-color: #00af00\">0</span> (0.00 B)\n",
       "</pre>\n"
      ],
      "text/plain": [
       "\u001b[1m Trainable params: \u001b[0m\u001b[38;5;34m0\u001b[0m (0.00 B)\n"
      ]
     },
     "metadata": {},
     "output_type": "display_data"
    },
    {
     "data": {
      "text/html": [
       "<pre style=\"white-space:pre;overflow-x:auto;line-height:normal;font-family:Menlo,'DejaVu Sans Mono',consolas,'Courier New',monospace\"><span style=\"font-weight: bold\"> Non-trainable params: </span><span style=\"color: #00af00; text-decoration-color: #00af00\">0</span> (0.00 B)\n",
       "</pre>\n"
      ],
      "text/plain": [
       "\u001b[1m Non-trainable params: \u001b[0m\u001b[38;5;34m0\u001b[0m (0.00 B)\n"
      ]
     },
     "metadata": {},
     "output_type": "display_data"
    }
   ],
   "source": [
    "from keras import Sequential\n",
    "from keras.layers import Dense,SimpleRNN,Embedding,Flatten\n",
    "model=Sequential()\n",
    "model.add(Embedding(19,output_dim=2,input_length=5))\n",
    "model.summary()"
   ]
  },
  {
   "cell_type": "code",
   "execution_count": 43,
   "id": "f928f98d",
   "metadata": {},
   "outputs": [],
   "source": [
    "model.compile('adam','accuracy')"
   ]
  },
  {
   "cell_type": "code",
   "execution_count": 44,
   "id": "f99b3536",
   "metadata": {},
   "outputs": [
    {
     "name": "stdout",
     "output_type": "stream",
     "text": [
      "\u001b[1m1/1\u001b[0m \u001b[32m━━━━━━━━━━━━━━━━━━━━\u001b[0m\u001b[37m\u001b[0m \u001b[1m0s\u001b[0m 181ms/step\n",
      "[[[ 0.04205865  0.02101029]\n",
      "  [ 0.00665085  0.0221884 ]\n",
      "  [-0.03205364 -0.01569351]\n",
      "  [-0.03205364 -0.01569351]\n",
      "  [-0.03205364 -0.01569351]]\n",
      "\n",
      " [[ 0.00665085  0.0221884 ]\n",
      "  [ 0.00665085  0.0221884 ]\n",
      "  [-0.03205364 -0.01569351]\n",
      "  [-0.03205364 -0.01569351]\n",
      "  [-0.03205364 -0.01569351]]\n",
      "\n",
      " [[ 0.02415365 -0.03075647]\n",
      "  [ 0.03753186  0.01129181]\n",
      "  [ 0.02415365 -0.03075647]\n",
      "  [-0.04059387  0.02926696]\n",
      "  [ 0.02415365 -0.03075647]]\n",
      "\n",
      " [[ 0.00665085  0.0221884 ]\n",
      "  [-0.03841985  0.0193353 ]\n",
      "  [ 0.04740709 -0.04712545]\n",
      "  [ 0.04005451 -0.0143039 ]\n",
      "  [-0.03205364 -0.01569351]]\n",
      "\n",
      " [[ 0.00228234 -0.00169461]\n",
      "  [ 0.00228234 -0.00169461]\n",
      "  [-0.03205364 -0.01569351]\n",
      "  [-0.03205364 -0.01569351]\n",
      "  [-0.03205364 -0.01569351]]\n",
      "\n",
      " [[ 0.04962576  0.03266956]\n",
      "  [-0.04044396  0.04364507]\n",
      "  [-0.03205364 -0.01569351]\n",
      "  [-0.03205364 -0.01569351]\n",
      "  [-0.03205364 -0.01569351]]\n",
      "\n",
      " [[ 0.02623082 -0.04598865]\n",
      "  [ 0.02623082 -0.04598865]\n",
      "  [-0.03205364 -0.01569351]\n",
      "  [-0.03205364 -0.01569351]\n",
      "  [-0.03205364 -0.01569351]]\n",
      "\n",
      " [[ 0.02465577  0.03798027]\n",
      "  [-0.0201346   0.00854379]\n",
      "  [ 0.04740709 -0.04712545]\n",
      "  [ 0.04005451 -0.0143039 ]\n",
      "  [-0.03205364 -0.01569351]]\n",
      "\n",
      " [[ 0.03481761  0.00122681]\n",
      "  [-0.03841985  0.0193353 ]\n",
      "  [-0.03205364 -0.01569351]\n",
      "  [-0.03205364 -0.01569351]\n",
      "  [-0.03205364 -0.01569351]]]\n"
     ]
    }
   ],
   "source": [
    "pred=model.predict(sequences)\n",
    "print(pred)"
   ]
  },
  {
   "cell_type": "code",
   "execution_count": null,
   "id": "0bb609a1",
   "metadata": {},
   "outputs": [],
   "source": []
  }
 ],
 "metadata": {
  "kernelspec": {
   "display_name": "Python 3",
   "language": "python",
   "name": "python3"
  },
  "language_info": {
   "codemirror_mode": {
    "name": "ipython",
    "version": 3
   },
   "file_extension": ".py",
   "mimetype": "text/x-python",
   "name": "python",
   "nbconvert_exporter": "python",
   "pygments_lexer": "ipython3",
   "version": "3.13.7"
  }
 },
 "nbformat": 4,
 "nbformat_minor": 5
}
